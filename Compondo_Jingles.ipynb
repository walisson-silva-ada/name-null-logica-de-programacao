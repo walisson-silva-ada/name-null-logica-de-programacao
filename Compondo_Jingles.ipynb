{
 "cells": [
  {
   "cell_type": "markdown",
   "metadata": {},
   "source": [
    "# Exercícios\n",
    "\n",
    "#### 04. Tuplas e Dicionários\n",
    "\n",
    "---\n",
    "\n",
    "<img src=\"https://selecao.letscode.com.br/favicon.png\" width=\"40px\" style=\"position: absolute; top: 0px; right: 40px; border-radius: 5px;\" />"
   ]
  },
  {
   "cell_type": "markdown",
   "metadata": {},
   "source": [
    "### Para entregar! 🔥"
   ]
  },
  {
   "cell_type": "markdown",
   "metadata": {},
   "source": [
    "### Compondo Jingles 🎶\n",
    "\n",
    "A. C. Marcos está dando os primeiros passos para ser um compositor de jingles. Ele está tendo alguns problemas, mas ao menos ele está criando melodias agradáveis e ritmos atrativos.\n",
    "\n",
    "Na música, uma nota tem um tom (sua frequência, resultando em quão grave ou agudo é o som) e uma duração (por quanto tempo a nota soa). Neste problema, estamos interessados apenas na duração das notas.\n",
    "\n",
    "Um jingle é dividido em uma sequência de compassos, e um compasso é formado de uma série de notas.\n",
    "\n",
    "A duração de uma nota é indicada pela sua forma. Neste problema, iremos utilizar letras maiúsculas para indicar a duração de uma nota. A seguinte tabela lista todas as notas disponíveis:\n",
    "\n",
    "<img src=\"https://resources.beecrowd.com.br/gallery/images/novos/Jingle%20Composing_PT.png\" style=\"display: block; margin: 1rem auto\" />\n",
    "\n",
    "A duração de um compasso é a soma da duração de suas notas. Nos jingles de Marcos, cada compasso tem a mesma duração. Como Marcos é apenas um iniciante, seu famoso professor Johann Sebastian III o ensinou que a duração de um compasso deve ser sempre 1.\n",
    "\n",
    "Por exemplo, Marcos escreveu uma composição contendo cinco compassos, dentre os quais quatro possuem a duração correta e um está errado. No exemplo abaixo, cada compasso é delimitado com barras e cada nota é representada como na tabela acima.\n",
    "\n",
    "<center>\n",
    "/HH/QQQQ/XXXTXTEQH/W/HW/\n",
    "</center>\n",
    "\n",
    "Marcos gosta de computadores assim como de música. Ele quer que você escreva um programa que determine, para cada uma de suas composições, quantos compassos possuem a duração correta e quais são os compassos com duração incorreta.\n",
    "\n",
    "|  Exemplo de Entrada | Exemplo de Saída     |\n",
    "|:-------------------:|:--------------------:|\n",
    "|/HH/QQQQ/XXXTXTEQH/W/HW/ |\tQtd. de Corretos: 4 |\n",
    "| | Incorretos: HW |\n",
    "| /W/W/SQHES/\t| Qtd. de Corretos: 3|\n",
    "| /WE/TEX/THES/\t| Qtd. de Corretos: 0|\n",
    "| | Incorretos: [WE, TEX, THES] |"
   ]
  },
  {
   "cell_type": "code",
   "execution_count": null,
   "metadata": {},
   "outputs": [],
   "source": [
    "\n",
    "jingle = input('Digite seu jingle: ')\n",
    "#musica = '/W/W/SQHES/'\n",
    "#notas = []\n",
    "compasses = jingle.split('/')\n",
    "\n",
    "\n",
    "if (compasses[0] and compasses[len(compasses)-1]) == '':\n",
    "    compasses.pop(0)\n",
    "    compasses.pop(len(compasses)-1)\n",
    "\n",
    " \n",
    "compass_value = { \n",
    "    'W': 1,\n",
    "    'H': 1/2,\n",
    "    'Q': 1/4,\n",
    "    'E': 1/8,\n",
    "    'S': 1/16,\n",
    "    'T': 1/32,\n",
    "    'X': 1/64\n",
    "}\n",
    "\n",
    "corrects_count = 0\n",
    "incorrects = []\n",
    "for item in compasses:\n",
    "    sum = 0\n",
    "    for letter in item:\n",
    "        value = compass_value[letter]\n",
    "        sum +=value\n",
    "    if sum == 1:\n",
    "        corrects_count+=1\n",
    "    else:\n",
    "        incorrects.append(item)\n",
    "    \n",
    "print(jingle)\n",
    "if corrects_count == compass_qtt:\n",
    "    print('Qtd. de corretos:',corrects_count)\n",
    "else:\n",
    "    print(\n",
    "    f'''\n",
    "    Qtd. de corretos: {corrects_count}\n",
    "    Incorretos: {incorrects}\n",
    "    '''\n",
    "    )\n",
    "             "
   ]
  }
 ],
 "metadata": {
  "language_info": {
   "name": "python"
  },
  "orig_nbformat": 4
 },
 "nbformat": 4,
 "nbformat_minor": 2
}
