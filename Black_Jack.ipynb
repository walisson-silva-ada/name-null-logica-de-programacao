{
 "cells": [
  {
   "cell_type": "markdown",
   "metadata": {},
   "source": [
    "# Exercícios\n",
    "\n",
    "#### 05. Funções\n",
    "\n",
    "---\n",
    "\n",
    "<img src=\"https://selecao.letscode.com.br/favicon.png\" width=\"40px\" style=\"position: absolute; top: 0px; right: 40px; border-radius: 5px;\" />"
   ]
  },
  {
   "cell_type": "markdown",
   "metadata": {},
   "source": [
    "### Para entregar! 🔥"
   ]
  },
  {
   "cell_type": "markdown",
   "metadata": {},
   "source": [
    "**03. Faça um jogo de BlackJack usando funções: o BlackJack, ou Vinte e Um, é um jogo em que os jogadores podem comprar cartas livremente, enquanto tiverem menos de 21 pontos. No nosso jogo, o Ás vale um ponto; as cartas de 2 a 10 valem o número de pontos que elas representam; e Valete, Dama e Rei valem 10 pontos cada. Ganha o jogador que tiver o maior número de pontos, desde que este seja menor ou igual a 21. Nosso jogo deve ter as seguintes funções:**\n",
    "\n",
    "a. Função principal: a função que vamos chamar para iniciar o jogo. Essa função não irá receber nem retornar nenhuma variável. Ela deve perguntar o número de jogadores participantes e o nome de cada um. Em seguida ela chama as outras funções do jogo.  \n",
    "b. Função para criar o baralho: essa função deve criar um baralho (uma lista) com as cartas do baralho.  \n",
    "c. Função para a jogada: essa função deve receber o nome do jogador que irá realizar a jogada e, caso ele ainda esteja ativo (tenha menos de 21 pontos e ainda não tenha desistido de comprar cartas) deve perguntar se ele quer comprar uma carta. Se ele responder que sim, a função deve chamar a próxima função para sortear uma carta e somar o valor retornado na pontuação do jogador; se ele responder que não, a função deve desativar o jogador para que ele não possa mais comprar cartas; Essa função só deve ser chamada enquanto houver jogadores ativos.   \n",
    "d. Função para o sorteio: essa função retira uma carta aleatória do baralho e retorna o número de pontos que essa carta vale.  \n",
    "e. Função verificação: verifica e indica qual/quais jogador/jogadores tem o maior número de pontos, que seja menor ou igual a 21."
   ]
  },
  {
   "cell_type": "code",
   "execution_count": null,
   "metadata": {},
   "outputs": [],
   "source": [
    "#FUNÇÃO PARA CRIAR O BARALHO\n",
    "def create_pack ():\n",
    "    pack = [2,3,4,5,6,7,8,9,10,'J','Q','K','A'] * 4\n",
    "    return pack\n",
    "\n",
    "create_pack()\n",
    "\n",
    "#FUNÇÃO PARA O SORTEIO \n",
    "def turn (pack):\n",
    "    point = 0\n",
    "    sort_card = choice(pack)\n",
    "    if sort_card == 'J' or sort_card == 'Q' or sort_card == 'K': \n",
    "        point = 10 \n",
    "    elif sort_card == 'A':\n",
    "\n",
    "        \n",
    "        point = 1   \n",
    "    else:\n",
    "        point = sort_card\n",
    "    \n",
    "    pack.remove(sort_card)  \n",
    "\n",
    "    return point\n",
    "\n",
    "#FUNÇÃO PARA A JOGADA\n",
    "def play (players,player_name):\n",
    "   points = players[player_name][0]\n",
    "   status = players[player_name][1]\n",
    "\n",
    "   for player_name in players: \n",
    "      if players[player_name][1] == 'on':\n",
    "            take_turn = input(f' {player_name} Gostaria de comprar uma carta? ((s) sim / (n) não)').lower()\n",
    "            if take_turn == 's':\n",
    "               pack = create_pack()\n",
    "               point = turn(pack)\n",
    "               players[player_name][0] += point\n",
    "               if players[player_name][0] >= 21:\n",
    "                  players[player_name][1] = 'off'\n",
    "            elif take_turn == 'n':\n",
    "               players[player_name][1] = 'off'\n",
    "            else:\n",
    "               print('Opção inválida, tente novamente')\n",
    "      else:\n",
    "         print(f'{player_name} não pode mais jogar')\n",
    "      #verify()\n",
    "      print(players, flush= True)\n",
    "   \n",
    "      \n",
    "\n",
    "\n",
    "\n",
    "#FUNÇÃO QUE VERIFICA A JOGADA\n",
    "\n",
    "def verify (players):\n",
    "  valid_player = []\n",
    "  for player_name in players:\n",
    "    score = players[player_name][0]\n",
    "    if (players[player_name][0] <= 21):\n",
    "      print(f'Jogador {player_name}: pontuação {score}')\n",
    "      valid_player.append(score)\n",
    "    else:\n",
    "      print(f'Jogador {player_name}: pontuação superior a 21 ({score} pontos)')\n",
    "  bigest_score = max(valid_player)\n",
    "  print('Jogador(es) vencedor(es): ')\n",
    "  for player_name in players:\n",
    "    if players[player_name][0] == bigest_score:\n",
    "      print (player_name)\n",
    "\n",
    "\n",
    "\n",
    "from random import choice\n",
    "\n",
    "players = {}\n",
    "def principal():\n",
    "    #FUNÇÃO PRINCIPAL \n",
    "    players_quantity = int(input('Informe a quantidade de jogadores: '))\n",
    "    while len(players) < players_quantity:\n",
    "        player_name = input('Digite o nome do jogador: ')\n",
    "        players[player_name] = [0,'on']\n",
    "\n",
    "    create_pack()\n",
    "\n",
    "    while sum(player_name[1] == 'on' for player_name in players.values()) > 0:\n",
    "        play(players,player_name)\n",
    "\n",
    "    verify (players)\n",
    "    \n",
    "principal()"
   ]
  }
 ],
 "metadata": {
  "interpreter": {
   "hash": "31f2aee4e71d21fbe5cf8b01ff0e069b9275f58929596ceb00d14d90e3e16cd6"
  },
  "kernelspec": {
   "display_name": "Python 3 (ipykernel)",
   "language": "python",
   "name": "python3"
  },
  "language_info": {
   "codemirror_mode": {
    "name": "ipython",
    "version": 3
   },
   "file_extension": ".py",
   "mimetype": "text/x-python",
   "name": "python",
   "nbconvert_exporter": "python",
   "pygments_lexer": "ipython3",
   "version": "3.9.5"
  }
 },
 "nbformat": 4,
 "nbformat_minor": 4
}
